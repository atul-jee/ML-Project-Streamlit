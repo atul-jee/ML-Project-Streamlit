{
 "cells": [
  {
   "cell_type": "code",
   "execution_count": 5,
   "id": "668f63a6-50bf-4a37-80c8-4de2cf11087e",
   "metadata": {
    "editable": true,
    "slideshow": {
     "slide_type": ""
    },
    "tags": []
   },
   "outputs": [],
   "source": [
    "import torch\n",
    "import requests \n",
    "from bs4 import BeautifulSoup\n",
    "import re\n",
    "from transformers import AutoTokenizer,AutoModelForSequenceClassification"
   ]
  },
  {
   "cell_type": "code",
   "execution_count": 7,
   "id": "b9d9d14a-9555-4458-b302-bdb99260f4b8",
   "metadata": {},
   "outputs": [],
   "source": [
    "tokenizer=AutoTokenizer.from_pretrained('nlptown/bert-base-multilingual-uncased-sentiment')"
   ]
  },
  {
   "cell_type": "code",
   "execution_count": 8,
   "id": "7ddb4d24-ed2e-47ce-8ffc-ad2ea62f13d5",
   "metadata": {},
   "outputs": [
    {
     "data": {
      "application/vnd.jupyter.widget-view+json": {
       "model_id": "cfd206086e3a4f668a09d54121dccd6a",
       "version_major": 2,
       "version_minor": 0
      },
      "text/plain": [
       "Downloading pytorch_model.bin:   0%|          | 0.00/669M [00:00<?, ?B/s]"
      ]
     },
     "metadata": {},
     "output_type": "display_data"
    }
   ],
   "source": [
    "model=AutoModelForSequenceClassification.from_pretrained('nlptown/bert-base-multilingual-uncased-sentiment')"
   ]
  },
  {
   "cell_type": "code",
   "execution_count": 29,
   "id": "f341680f-a950-49ac-9432-cf3d7e57aa6c",
   "metadata": {},
   "outputs": [],
   "source": [
    "   tokens=tokenizer.encode('I hated this,absolutely the worst',return_tensors='pt')"
   ]
  },
  {
   "cell_type": "code",
   "execution_count": 30,
   "id": "d0eb4e00-95a7-4d6c-9116-42de6431438d",
   "metadata": {},
   "outputs": [
    {
     "data": {
      "text/plain": [
       "tensor([[  101,   151, 39487, 10163, 10372,   117, 35925, 10563, 10103, 43060,\n",
       "           102]])"
      ]
     },
     "execution_count": 30,
     "metadata": {},
     "output_type": "execute_result"
    }
   ],
   "source": [
    "tokens"
   ]
  },
  {
   "cell_type": "code",
   "execution_count": 31,
   "id": "12c9cf67-a7ce-4f89-9ac2-d65eefb74110",
   "metadata": {},
   "outputs": [
    {
     "data": {
      "text/plain": [
       "'[CLS] i hated this, absolutely the worst [SEP]'"
      ]
     },
     "execution_count": 31,
     "metadata": {},
     "output_type": "execute_result"
    }
   ],
   "source": [
    "tokenizer.decode(tokens[0])"
   ]
  },
  {
   "cell_type": "code",
   "execution_count": 39,
   "id": "77b5d36d-153f-4823-afd8-1fa47a1792df",
   "metadata": {},
   "outputs": [],
   "source": [
    "result=model(tokens)"
   ]
  },
  {
   "cell_type": "code",
   "execution_count": 40,
   "id": "30189720-6d18-423e-997e-a9165142c991",
   "metadata": {},
   "outputs": [
    {
     "data": {
      "text/plain": [
       "SequenceClassifierOutput(loss=None, logits=tensor([[ 4.8750,  1.7880, -0.8356, -3.0027, -2.0727]],\n",
       "       grad_fn=<AddmmBackward0>), hidden_states=None, attentions=None)"
      ]
     },
     "execution_count": 40,
     "metadata": {},
     "output_type": "execute_result"
    }
   ],
   "source": [
    "result"
   ]
  },
  {
   "cell_type": "code",
   "execution_count": 41,
   "id": "11051873-e8e7-4c04-ab61-4e1e02aa48bc",
   "metadata": {},
   "outputs": [
    {
     "data": {
      "text/plain": [
       "tensor([[ 4.8750,  1.7880, -0.8356, -3.0027, -2.0727]],\n",
       "       grad_fn=<AddmmBackward0>)"
      ]
     },
     "execution_count": 41,
     "metadata": {},
     "output_type": "execute_result"
    }
   ],
   "source": [
    "result.logits"
   ]
  },
  {
   "cell_type": "code",
   "execution_count": 42,
   "id": "922678c5-87f0-4f9e-9272-d6b1976b25ba",
   "metadata": {},
   "outputs": [
    {
     "data": {
      "text/plain": [
       "1"
      ]
     },
     "execution_count": 42,
     "metadata": {},
     "output_type": "execute_result"
    }
   ],
   "source": [
    "int(torch.argmax(result.logits))+1"
   ]
  },
  {
   "cell_type": "code",
   "execution_count": 43,
   "id": "657dc8ae-e173-414d-9a23-7599ec03d0d2",
   "metadata": {},
   "outputs": [],
   "source": [
    "tokens2=tokenizer.encode('this is amazing ',return_tensors='pt')"
   ]
  },
  {
   "cell_type": "code",
   "execution_count": 44,
   "id": "9a2f1821-12bc-4394-9a44-bf34a203168f",
   "metadata": {},
   "outputs": [
    {
     "data": {
      "text/plain": [
       "tensor([[-1.9988, -2.3604, -0.8269,  1.1844,  3.2305]],\n",
       "       grad_fn=<AddmmBackward0>)"
      ]
     },
     "execution_count": 44,
     "metadata": {},
     "output_type": "execute_result"
    }
   ],
   "source": [
    "result2=model(tokens2)\n",
    "result2.logits"
   ]
  },
  {
   "cell_type": "code",
   "execution_count": 45,
   "id": "558d5225-4f47-43e4-94d2-343d23a9ad2b",
   "metadata": {},
   "outputs": [
    {
     "data": {
      "text/plain": [
       "5"
      ]
     },
     "execution_count": 45,
     "metadata": {},
     "output_type": "execute_result"
    }
   ],
   "source": [
    "int(torch.argmax(result2.logits))+1"
   ]
  },
  {
   "cell_type": "code",
   "execution_count": 51,
   "id": "73bef0cc-d80b-4ce9-bd8c-6840ec0ab111",
   "metadata": {},
   "outputs": [],
   "source": [
    "r=requests.get('http://www.yelp.com/biz/mejico-sydney-2')\n",
    "soup=BeautifulSoup(r.text,'html.parser')\n",
    "regex=re.compile('.*comment*.')\n",
    "results=soup.find_all('p',{'class':regex})\n",
    "reviews=[result.text for result in results]"
   ]
  },
  {
   "cell_type": "markdown",
   "id": "a19fdcbe-527c-4ee6-a1b0-28839aa0e87f",
   "metadata": {},
   "source": [
    "### to text of website\n",
    "*r.text*"
   ]
  },
  {
   "cell_type": "code",
   "execution_count": 53,
   "id": "24718c43-08e6-4bef-abdb-bb66a1f07020",
   "metadata": {},
   "outputs": [],
   "source": [
    "import pandas as pd \n",
    "import numpy as np"
   ]
  },
  {
   "cell_type": "code",
   "execution_count": 54,
   "id": "fbd1d58c-bcd4-4ada-b6d8-c72970e06ac2",
   "metadata": {},
   "outputs": [],
   "source": [
    "df=pd.DataFrame(np.array(reviews),columns=['reviews'])"
   ]
  },
  {
   "cell_type": "code",
   "execution_count": 55,
   "id": "90efa44a-379e-4d72-b9f8-d6e3681dbeaf",
   "metadata": {},
   "outputs": [
    {
     "data": {
      "text/html": [
       "<div>\n",
       "<style scoped>\n",
       "    .dataframe tbody tr th:only-of-type {\n",
       "        vertical-align: middle;\n",
       "    }\n",
       "\n",
       "    .dataframe tbody tr th {\n",
       "        vertical-align: top;\n",
       "    }\n",
       "\n",
       "    .dataframe thead th {\n",
       "        text-align: right;\n",
       "    }\n",
       "</style>\n",
       "<table border=\"1\" class=\"dataframe\">\n",
       "  <thead>\n",
       "    <tr style=\"text-align: right;\">\n",
       "      <th></th>\n",
       "      <th>reviews</th>\n",
       "    </tr>\n",
       "  </thead>\n",
       "  <tbody>\n",
       "    <tr>\n",
       "      <th>0</th>\n",
       "      <td>Hotter than I imagine myself to be and firing ...</td>\n",
       "    </tr>\n",
       "    <tr>\n",
       "      <th>1</th>\n",
       "      <td>The food and service here was really good.  It...</td>\n",
       "    </tr>\n",
       "    <tr>\n",
       "      <th>2</th>\n",
       "      <td>Visiting from Texas and decided to give this r...</td>\n",
       "    </tr>\n",
       "    <tr>\n",
       "      <th>3</th>\n",
       "      <td>Great atmosphere, attentive service, solid mar...</td>\n",
       "    </tr>\n",
       "    <tr>\n",
       "      <th>4</th>\n",
       "      <td>Don't come here expecting legit Mexican food b...</td>\n",
       "    </tr>\n",
       "  </tbody>\n",
       "</table>\n",
       "</div>"
      ],
      "text/plain": [
       "                                             reviews\n",
       "0  Hotter than I imagine myself to be and firing ...\n",
       "1  The food and service here was really good.  It...\n",
       "2  Visiting from Texas and decided to give this r...\n",
       "3  Great atmosphere, attentive service, solid mar...\n",
       "4  Don't come here expecting legit Mexican food b..."
      ]
     },
     "execution_count": 55,
     "metadata": {},
     "output_type": "execute_result"
    }
   ],
   "source": [
    "df.head()"
   ]
  },
  {
   "cell_type": "code",
   "execution_count": 58,
   "id": "95b19f6d-17a5-4057-b911-ced5703cd47b",
   "metadata": {},
   "outputs": [
    {
     "data": {
      "text/plain": [
       "'Hotter than I imagine myself to be and firing up the flaming ring this place packs a firey heat punch with a delicious dolls mexican fusion. Pants free or margarita mash this is the place to explore.'"
      ]
     },
     "execution_count": 58,
     "metadata": {},
     "output_type": "execute_result"
    }
   ],
   "source": [
    "df['reviews'].iloc[0]"
   ]
  },
  {
   "cell_type": "code",
   "execution_count": 62,
   "id": "80061713-6026-4c28-b0e4-3ea0179857df",
   "metadata": {},
   "outputs": [],
   "source": [
    "def sentiment_score(review):\n",
    "    tokens=tokenizer.encode(review,return_tensors='pt')\n",
    "    results=model(tokens)\n",
    "    return int(torch.argmax(results.logits))+1"
   ]
  },
  {
   "cell_type": "code",
   "execution_count": 68,
   "id": "9d869d12-8466-4c44-99de-bf26cedb555c",
   "metadata": {},
   "outputs": [
    {
     "data": {
      "text/plain": [
       "3"
      ]
     },
     "execution_count": 68,
     "metadata": {},
     "output_type": "execute_result"
    }
   ],
   "source": [
    "sentiment_score(df['reviews'].iloc[4])"
   ]
  },
  {
   "cell_type": "code",
   "execution_count": 69,
   "id": "a56c6941-b8c7-45a7-8de3-ed711d40a817",
   "metadata": {},
   "outputs": [
    {
     "data": {
      "text/plain": [
       "5"
      ]
     },
     "execution_count": 69,
     "metadata": {},
     "output_type": "execute_result"
    }
   ],
   "source": [
    "sentiment_score(df['reviews'].iloc[0])"
   ]
  },
  {
   "cell_type": "code",
   "execution_count": 70,
   "id": "54dec261-10f6-4ae6-b546-9ed2d71ffea0",
   "metadata": {},
   "outputs": [],
   "source": [
    "df['sentiment']=df['reviews'].apply(sentiment_score)"
   ]
  },
  {
   "cell_type": "code",
   "execution_count": 71,
   "id": "7e10a2f9-cfe8-4ffb-af79-970eafd8b9ff",
   "metadata": {},
   "outputs": [
    {
     "data": {
      "text/plain": [
       "0    5\n",
       "1    5\n",
       "2    5\n",
       "3    3\n",
       "4    3\n",
       "Name: sentiment, dtype: int64"
      ]
     },
     "execution_count": 71,
     "metadata": {},
     "output_type": "execute_result"
    }
   ],
   "source": [
    "df['sentiment'].head()"
   ]
  },
  {
   "cell_type": "code",
   "execution_count": 75,
   "id": "d279d506-a753-4282-9574-cf9f255b8556",
   "metadata": {},
   "outputs": [
    {
     "data": {
      "text/html": [
       "<div>\n",
       "<style scoped>\n",
       "    .dataframe tbody tr th:only-of-type {\n",
       "        vertical-align: middle;\n",
       "    }\n",
       "\n",
       "    .dataframe tbody tr th {\n",
       "        vertical-align: top;\n",
       "    }\n",
       "\n",
       "    .dataframe thead th {\n",
       "        text-align: right;\n",
       "    }\n",
       "</style>\n",
       "<table border=\"1\" class=\"dataframe\">\n",
       "  <thead>\n",
       "    <tr style=\"text-align: right;\">\n",
       "      <th></th>\n",
       "      <th>reviews</th>\n",
       "      <th>sentiment</th>\n",
       "    </tr>\n",
       "  </thead>\n",
       "  <tbody>\n",
       "    <tr>\n",
       "      <th>0</th>\n",
       "      <td>Hotter than I imagine myself to be and firing ...</td>\n",
       "      <td>5</td>\n",
       "    </tr>\n",
       "    <tr>\n",
       "      <th>1</th>\n",
       "      <td>The food and service here was really good.  It...</td>\n",
       "      <td>5</td>\n",
       "    </tr>\n",
       "    <tr>\n",
       "      <th>2</th>\n",
       "      <td>Visiting from Texas and decided to give this r...</td>\n",
       "      <td>5</td>\n",
       "    </tr>\n",
       "    <tr>\n",
       "      <th>3</th>\n",
       "      <td>Great atmosphere, attentive service, solid mar...</td>\n",
       "      <td>3</td>\n",
       "    </tr>\n",
       "    <tr>\n",
       "      <th>4</th>\n",
       "      <td>Don't come here expecting legit Mexican food b...</td>\n",
       "      <td>3</td>\n",
       "    </tr>\n",
       "    <tr>\n",
       "      <th>5</th>\n",
       "      <td>Out of all the restaurants that I tried in Syd...</td>\n",
       "      <td>5</td>\n",
       "    </tr>\n",
       "    <tr>\n",
       "      <th>6</th>\n",
       "      <td>We came here on a Thursday night @ 5pm and by ...</td>\n",
       "      <td>4</td>\n",
       "    </tr>\n",
       "    <tr>\n",
       "      <th>7</th>\n",
       "      <td>The food is fresh and tasty.  The scallop cevi...</td>\n",
       "      <td>4</td>\n",
       "    </tr>\n",
       "    <tr>\n",
       "      <th>8</th>\n",
       "      <td>Have been here twice and have absolutely loved...</td>\n",
       "      <td>5</td>\n",
       "    </tr>\n",
       "    <tr>\n",
       "      <th>9</th>\n",
       "      <td>I was pleasantly surprised at what a great job...</td>\n",
       "      <td>5</td>\n",
       "    </tr>\n",
       "  </tbody>\n",
       "</table>\n",
       "</div>"
      ],
      "text/plain": [
       "                                             reviews  sentiment\n",
       "0  Hotter than I imagine myself to be and firing ...          5\n",
       "1  The food and service here was really good.  It...          5\n",
       "2  Visiting from Texas and decided to give this r...          5\n",
       "3  Great atmosphere, attentive service, solid mar...          3\n",
       "4  Don't come here expecting legit Mexican food b...          3\n",
       "5  Out of all the restaurants that I tried in Syd...          5\n",
       "6  We came here on a Thursday night @ 5pm and by ...          4\n",
       "7  The food is fresh and tasty.  The scallop cevi...          4\n",
       "8  Have been here twice and have absolutely loved...          5\n",
       "9  I was pleasantly surprised at what a great job...          5"
      ]
     },
     "execution_count": 75,
     "metadata": {},
     "output_type": "execute_result"
    }
   ],
   "source": [
    "df"
   ]
  },
  {
   "cell_type": "code",
   "execution_count": null,
   "id": "d749fa69-03f8-4227-bb67-66893a320eec",
   "metadata": {},
   "outputs": [],
   "source": []
  }
 ],
 "metadata": {
  "kernelspec": {
   "display_name": "Python 3 (ipykernel)",
   "language": "python",
   "name": "python3"
  },
  "language_info": {
   "codemirror_mode": {
    "name": "ipython",
    "version": 3
   },
   "file_extension": ".py",
   "mimetype": "text/x-python",
   "name": "python",
   "nbconvert_exporter": "python",
   "pygments_lexer": "ipython3",
   "version": "3.11.2"
  }
 },
 "nbformat": 4,
 "nbformat_minor": 5
}
