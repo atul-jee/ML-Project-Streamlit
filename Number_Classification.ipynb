{
 "cells": [
  {
   "cell_type": "code",
   "execution_count": 1,
   "id": "81cdec00-558a-4581-96ba-1606b857bd24",
   "metadata": {},
   "outputs": [],
   "source": [
    "import tensorflow as tf\n",
    "from tensorflow import keras\n",
    "import matplotlib.pyplot as plt\n",
    "import numpy as np"
   ]
  },
  {
   "cell_type": "code",
   "execution_count": 5,
   "id": "4f1ef259-4630-4b67-8c4c-cefa966cddd0",
   "metadata": {},
   "outputs": [
    {
     "name": "stdout",
     "output_type": "stream",
     "text": [
      "Downloading data from https://storage.googleapis.com/tensorflow/tf-keras-datasets/mnist.npz\n",
      "11490434/11490434 [==============================] - 44s 4us/step\n"
     ]
    }
   ],
   "source": [
    "(x_train,y_train),(x_test,y_test)=keras.datasets.mnist.load_data()"
   ]
  },
  {
   "cell_type": "code",
   "execution_count": 7,
   "id": "5184d98b-08f3-4c3c-89fd-2e369239a663",
   "metadata": {},
   "outputs": [
    {
     "name": "stdout",
     "output_type": "stream",
     "text": [
      "length of x_train: 60000\n",
      "length of x_test: 10000\n",
      "length of y_train: 60000\n",
      "length of y_test: 10000\n"
     ]
    }
   ],
   "source": [
    "print('length of x_train:',len(x_train))\n",
    "print('length of x_test:',len(x_test))\n",
    "print('length of y_train:',len(y_train))\n",
    "print('length of y_test:',len(y_test))"
   ]
  },
  {
   "cell_type": "code",
   "execution_count": 14,
   "id": "a665b8ff-d810-4bf2-aa2d-6d716a5d58e9",
   "metadata": {},
   "outputs": [
    {
     "data": {
      "image/png": "[encoded data removed]",
      "text/plain": [
       "<Figure size 480x480 with 1 Axes>"
      ]
     },
     "metadata": {},
     "output_type": "display_data"
    }
   ],
   "source": [
    "plt.matshow(x_train[110]);"
   ]
  },
  {
   "cell_type": "code",
   "execution_count": 16,
   "id": "97ab0916-2c81-4d08-9641-3c64c0dca46d",
   "metadata": {},
   "outputs": [
    {
     "data": {
      "text/plain": [
       "(60000, 28, 28)"
      ]
     },
     "execution_count": 16,
     "metadata": {},
     "output_type": "execute_result"
    }
   ],
   "source": [
    "x_train.shape"
   ]
  },
  {
   "cell_type": "code",
   "execution_count": 17,
   "id": "2e0ea373-8d5b-459a-9a69-9cccf0770229",
   "metadata": {},
   "outputs": [],
   "source": [
    "x_train_flattened=x_train.reshape(len(x_train),28*28)"
   ]
  },
  {
   "cell_type": "code",
   "execution_count": 20,
   "id": "7dda86a7-dc7c-4a40-a08a-adbe3223fed0",
   "metadata": {},
   "outputs": [],
   "source": [
    "x_test_flattened=x_test.reshape(len(x_test),28*28)"
   ]
  },
  {
   "cell_type": "code",
   "execution_count": 34,
   "id": "5a443616-b492-4fcb-9c55-0887389e3144",
   "metadata": {},
   "outputs": [],
   "source": [
    "model=keras.Sequential([\n",
    "    keras.layers.Dense(10,input_shape=(784,),\n",
    "                      activation='sigmoid')\n",
    "])\n",
    "model.compile(\n",
    "        optimizer='adam',\n",
    "        loss='sparse_categorical_crossentropy',\n",
    "        metrics=['accuracy']\n",
    "    )"
   ]
  },
  {
   "cell_type": "code",
   "execution_count": 35,
   "id": "5cb4c130-b1c4-46e0-8541-01c677f082e6",
   "metadata": {},
   "outputs": [
    {
     "name": "stdout",
     "output_type": "stream",
     "text": [
      "Epoch 1/5\n",
      "1875/1875 [==============================] - 5s 2ms/step - loss: 9.6708 - accuracy: 0.8413\n",
      "Epoch 2/5\n",
      "1875/1875 [==============================] - 3s 2ms/step - loss: 6.1688 - accuracy: 0.8782\n",
      "Epoch 3/5\n",
      "1875/1875 [==============================] - 3s 2ms/step - loss: 5.6504 - accuracy: 0.8824\n",
      "Epoch 4/5\n",
      "1875/1875 [==============================] - 3s 2ms/step - loss: 5.6115 - accuracy: 0.8845\n",
      "Epoch 5/5\n",
      "1875/1875 [==============================] - 3s 2ms/step - loss: 5.4350 - accuracy: 0.8867\n"
     ]
    },
    {
     "data": {
      "text/plain": [
       "<keras.callbacks.History at 0x1c6d690a1d0>"
      ]
     },
     "execution_count": 35,
     "metadata": {},
     "output_type": "execute_result"
    }
   ],
   "source": [
    "model.fit(x_train_flattened,y_train,epochs=5)"
   ]
  },
  {
   "cell_type": "code",
   "execution_count": 36,
   "id": "d1430a3e-a7ab-4d32-bd67-52a520042c76",
   "metadata": {},
   "outputs": [
    {
     "data": {
      "text/plain": [
       "(60000, 784)"
      ]
     },
     "execution_count": 36,
     "metadata": {},
     "output_type": "execute_result"
    }
   ],
   "source": [
    "x_train_flattened.shape"
   ]
  },
  {
   "cell_type": "code",
   "execution_count": 37,
   "id": "6a014a02-19e8-4b0b-bdb1-1cee888e092d",
   "metadata": {},
   "outputs": [
    {
     "name": "stdout",
     "output_type": "stream",
     "text": [
      "313/313 [==============================] - 1s 1ms/step - loss: 5.5688 - accuracy: 0.9010\n"
     ]
    },
    {
     "data": {
      "text/plain": [
       "[5.568798542022705, 0.9010000228881836]"
      ]
     },
     "execution_count": 37,
     "metadata": {},
     "output_type": "execute_result"
    }
   ],
   "source": [
    "model.evaluate(x_test_flattened,y_test)"
   ]
  },
  {
   "cell_type": "code",
   "execution_count": 39,
   "id": "89cd8854-10e0-4f4a-80cc-b9cb1f1b94e6",
   "metadata": {},
   "outputs": [
    {
     "name": "stdout",
     "output_type": "stream",
     "text": [
      "313/313 [==============================] - 1s 688us/step\n"
     ]
    }
   ],
   "source": [
    "y_predicted=model.predict(x_test_flattened)"
   ]
  },
  {
   "cell_type": "code",
   "execution_count": 41,
   "id": "5c98da74-390c-4deb-a8c1-14dfa1ccbb15",
   "metadata": {},
   "outputs": [
    {
     "data": {
      "text/plain": [
       "array([1.4664307e-38, 0.0000000e+00, 0.0000000e+00, 1.0000000e+00,\n",
       "       0.0000000e+00, 6.6126287e-01, 0.0000000e+00, 1.0000000e+00,\n",
       "       1.0000000e+00, 1.0000000e+00], dtype=float32)"
      ]
     },
     "execution_count": 41,
     "metadata": {},
     "output_type": "execute_result"
    }
   ],
   "source": [
    "y_predicted[0]"
   ]
  },
  {
   "cell_type": "code",
   "execution_count": 50,
   "id": "cbb3a644-9544-4180-ac19-751214297a2a",
   "metadata": {},
   "outputs": [
    {
     "data": {
      "text/plain": [
       "2"
      ]
     },
     "execution_count": 50,
     "metadata": {},
     "output_type": "execute_result"
    }
   ],
   "source": [
    "np.argmax(y_predicted[70])"
   ]
  },
  {
   "cell_type": "code",
   "execution_count": 52,
   "id": "da0a3691-8674-455f-8afa-7c824b4132fe",
   "metadata": {},
   "outputs": [
    {
     "data": {
      "text/plain": [
       "<matplotlib.image.AxesImage at 0x1c6d83f4090>"
      ]
     },
     "execution_count": 52,
     "metadata": {},
     "output_type": "execute_result"
    },
    {
     "data": {
      "image/png": "[encoded data removed]",
      "text/plain": [
       "<Figure size 480x480 with 1 Axes>"
      ]
     },
     "metadata": {},
     "output_type": "display_data"
    }
   ],
   "source": [
    "plt.matshow(x_test[70])"
   ]
  },
  {
   "cell_type": "code",
   "execution_count": 55,
   "id": "333ddcab-58ea-454e-91a1-071d149cbe97",
   "metadata": {},
   "outputs": [],
   "source": [
    "y_predicted_labels=[np.argmax(i) for i in y_predicted]"
   ]
  },
  {
   "cell_type": "code",
   "execution_count": 56,
   "id": "e670c83c-681f-4e0c-ba89-1cdf3980d6d0",
   "metadata": {},
   "outputs": [],
   "source": [
    "cm=tf.math.confusion_matrix(labels=y_test,predictions=y_predicted_labels)"
   ]
  },
  {
   "cell_type": "code",
   "execution_count": 59,
   "id": "376fd1fe-e175-4676-b0aa-43a11e515643",
   "metadata": {},
   "outputs": [
    {
     "data": {
      "text/plain": [
       "<tf.Tensor: shape=(10, 10), dtype=int32, numpy=\n",
       "array([[ 974,    0,    0,    1,    2,    3,    0,    0,    0,    0],\n",
       "       [   3, 1129,    2,    0,    0,    1,    0,    0,    0,    0],\n",
       "       [ 323,  327,  363,    5,   10,    2,    1,    0,    0,    1],\n",
       "       [ 209,  161,  271,  367,    1,    1,    0,    0,    0,    0],\n",
       "       [  63,   48,  154,  146,  563,    0,    1,    0,    7,    0],\n",
       "       [ 266,   28,   98,  251,   39,  201,    4,    0,    4,    1],\n",
       "       [ 333,   71,  336,   55,   50,   70,   43,    0,    0,    0],\n",
       "       [  59,   56,  140,  464,   85,   55,    0,  169,    0,    0],\n",
       "       [  93,  138,  434,  145,   37,   88,    7,    9,   23,    0],\n",
       "       [  37,   54,  100,  414,  355,    8,    1,   37,    2,    1]])>"
      ]
     },
     "execution_count": 59,
     "metadata": {},
     "output_type": "execute_result"
    }
   ],
   "source": [
    "cm"
   ]
  },
  {
   "cell_type": "markdown",
   "id": "6eca5950-5be5-41f9-8748-a73095ba7c73",
   "metadata": {},
   "source": [
    "#Scaling"
   ]
  },
  {
   "cell_type": "code",
   "execution_count": 61,
   "id": "03cc5bee-f798-475c-a51e-22160d95f7a5",
   "metadata": {},
   "outputs": [],
   "source": [
    "x_train=x_train/255\n",
    "x_test=x_test/255"
   ]
  },
  {
   "cell_type": "code",
   "execution_count": 62,
   "id": "b47d29fa-d802-4004-b952-c567593abb6c",
   "metadata": {},
   "outputs": [],
   "source": [
    "x_train_flattened=x_train.reshape(len(x_train),28*28)"
   ]
  },
  {
   "cell_type": "code",
   "execution_count": 63,
   "id": "5adc7ae5-b89b-4794-9f61-975bc172c7fa",
   "metadata": {},
   "outputs": [],
   "source": [
    "x_test_flattened=x_test.reshape(len(x_test),28*28)"
   ]
  },
  {
   "cell_type": "code",
   "execution_count": 64,
   "id": "95edfc2d-81ab-471c-b4ab-63bbd11561ae",
   "metadata": {},
   "outputs": [
    {
     "name": "stdout",
     "output_type": "stream",
     "text": [
      "Epoch 1/5\n",
      "1875/1875 [==============================] - 4s 2ms/step - loss: 1.2946 - accuracy: 0.8186\n",
      "Epoch 2/5\n",
      "1875/1875 [==============================] - 3s 1ms/step - loss: 0.8991 - accuracy: 0.8715\n",
      "Epoch 3/5\n",
      "1875/1875 [==============================] - 3s 2ms/step - loss: 0.6200 - accuracy: 0.8845\n",
      "Epoch 4/5\n",
      "1875/1875 [==============================] - 3s 2ms/step - loss: 0.4531 - accuracy: 0.8959\n",
      "Epoch 5/5\n",
      "1875/1875 [==============================] - 3s 2ms/step - loss: 0.3611 - accuracy: 0.9065\n"
     ]
    },
    {
     "data": {
      "text/plain": [
       "<keras.callbacks.History at 0x1c6da771ed0>"
      ]
     },
     "execution_count": 64,
     "metadata": {},
     "output_type": "execute_result"
    }
   ],
   "source": [
    "model.fit(x_train_flattened,y_train,epochs=5)"
   ]
  },
  {
   "cell_type": "code",
   "execution_count": 65,
   "id": "c8ae62ac-caf6-4e0b-8ee8-0dba41616f62",
   "metadata": {},
   "outputs": [
    {
     "name": "stdout",
     "output_type": "stream",
     "text": [
      "313/313 [==============================] - 1s 2ms/step - loss: 0.3224 - accuracy: 0.9139\n"
     ]
    },
    {
     "data": {
      "text/plain": [
       "[0.3223665654659271, 0.9139000177383423]"
      ]
     },
     "execution_count": 65,
     "metadata": {},
     "output_type": "execute_result"
    }
   ],
   "source": [
    "model.evaluate(x_test_flattened,y_test)"
   ]
  },
  {
   "cell_type": "code",
   "execution_count": 66,
   "id": "e58877f1-f0a9-4edf-a7a7-41212e3a6c12",
   "metadata": {},
   "outputs": [
    {
     "name": "stdout",
     "output_type": "stream",
     "text": [
      "313/313 [==============================] - 0s 630us/step\n"
     ]
    }
   ],
   "source": [
    "y_predicted=model.predict(x_test_flattened)"
   ]
  },
  {
   "cell_type": "code",
   "execution_count": 67,
   "id": "ba3ee6ce-8b5e-4486-9799-01e15f602f10",
   "metadata": {},
   "outputs": [
    {
     "data": {
      "text/plain": [
       "7"
      ]
     },
     "execution_count": 67,
     "metadata": {},
     "output_type": "execute_result"
    }
   ],
   "source": [
    "np.argmax(y_predicted[70])"
   ]
  },
  {
   "cell_type": "code",
   "execution_count": 68,
   "id": "b90bda11-6d45-4119-959f-8ee9042795a6",
   "metadata": {},
   "outputs": [
    {
     "data": {
      "text/plain": [
       "<matplotlib.image.AxesImage at 0x1c683d18250>"
      ]
     },
     "execution_count": 68,
     "metadata": {},
     "output_type": "execute_result"
    },
    {
     "data": {
      "image/png": "[encoded data removed]",
      "text/plain": [
       "<Figure size 480x480 with 1 Axes>"
      ]
     },
     "metadata": {},
     "output_type": "display_data"
    }
   ],
   "source": [
    "plt.matshow(x_test[70])"
   ]
  },
  {
   "cell_type": "code",
   "execution_count": 70,
   "id": "72938c1e-d548-4151-9616-e521036a4f48",
   "metadata": {},
   "outputs": [],
   "source": [
    "y_predicted_labels=[np.argmax(i) for i in y_predicted]"
   ]
  },
  {
   "cell_type": "code",
   "execution_count": 71,
   "id": "d99d2848-2dd6-4c95-91ed-20af99ee4327",
   "metadata": {},
   "outputs": [],
   "source": [
    "cm=tf.math.confusion_matrix(labels=y_test,predictions=y_predicted_labels)"
   ]
  },
  {
   "cell_type": "code",
   "execution_count": 73,
   "id": "ccf43729-607a-4c61-b7b9-30cf7b6a94d3",
   "metadata": {},
   "outputs": [
    {
     "data": {
      "text/plain": [
       "<tf.Tensor: shape=(10, 10), dtype=int32, numpy=\n",
       "array([[ 967,    0,    1,    1,    0,    3,    5,    1,    2,    0],\n",
       "       [   0, 1111,    2,    3,    0,    3,    4,    0,   12,    0],\n",
       "       [  12,    9,  900,   24,   16,    0,   11,   14,   41,    5],\n",
       "       [   4,    1,   17,  918,    1,   23,    3,   13,   20,   10],\n",
       "       [   2,    2,    3,    1,  917,    1,   11,    2,    7,   36],\n",
       "       [  12,    8,    2,   42,   15,  758,   15,    7,   23,   10],\n",
       "       [  19,    3,    7,    1,    9,   15,  901,    0,    3,    0],\n",
       "       [   2,   18,   22,    3,   10,    0,    0,  930,    4,   39],\n",
       "       [  12,   11,    8,   25,   11,   27,   11,   11,  845,   13],\n",
       "       [  11,    7,    3,   13,   47,   10,    0,   20,    6,  892]])>"
      ]
     },
     "execution_count": 73,
     "metadata": {},
     "output_type": "execute_result"
    }
   ],
   "source": [
    "cm"
   ]
  },
  {
   "cell_type": "code",
   "execution_count": null,
   "id": "393766c0-04af-4f5a-af84-0b27dc511685",
   "metadata": {},
   "outputs": [],
   "source": []
  }
 ],
 "metadata": {
  "kernelspec": {
   "display_name": "Python 3 (ipykernel)",
   "language": "python",
   "name": "python3"
  },
  "language_info": {
   "codemirror_mode": {
    "name": "ipython",
    "version": 3
   },
   "file_extension": ".py",
   "mimetype": "text/x-python",
   "name": "python",
   "nbconvert_exporter": "python",
   "pygments_lexer": "ipython3",
   "version": "3.11.2"
  }
 },
 "nbformat": 4,
 "nbformat_minor": 5
}
